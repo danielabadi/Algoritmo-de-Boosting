{
  "nbformat": 4,
  "nbformat_minor": 0,
  "metadata": {
    "colab": {
      "name": "TP2.ipynb",
      "provenance": [],
      "collapsed_sections": []
    },
    "kernelspec": {
      "name": "python3",
      "display_name": "Python 3"
    },
    "language_info": {
      "name": "python"
    }
  },
  "cells": [
    {
      "cell_type": "markdown",
      "source": [
        "# Trabalho prático 2 - Implementac¸ao do Algoritmo de Boosting\n",
        "Aluno: Daniel Ferreira Abadi<br>\n",
        "Matrícula: 2018088062\n",
        "\n",
        "O objetivo deste trabalho prática é ganhar experiência com o processo de Boosting visto em sala de aula. Para isso foi nos passada a tarefa de implementar o processo de Boosting como visto em sala, assumindo um problema de classificação binária de resultados do \"jogo da velha\" com atributos categóricos.\n",
        "\n",
        "Abaixo temos todas as importações necessárias para a realização do trabalho, além da importação dos dados utilizados, que consideram que os dados estão na mesma pasta onde se encontra este arquivo."
      ],
      "metadata": {
        "id": "azMAX8T77Eai"
      }
    },
    {
      "cell_type": "code",
      "source": [
        "import pandas as pd\n",
        "import numpy as np\n",
        "\n",
        "from sklearn.base import BaseEstimator\n",
        "from sklearn.model_selection import train_test_split\n",
        "from sklearn.model_selection import GridSearchCV\n",
        "import matplotlib.pyplot as plt\n",
        "\n",
        "data = pd.read_csv('tic-tac-toe.data', header=None, delimiter=',')\n",
        "data.head()"
      ],
      "metadata": {
        "id": "JEHzrKaIofCw",
        "colab": {
          "base_uri": "https://localhost:8080/",
          "height": 206
        },
        "outputId": "92404a27-3822-4015-98e3-813a0863d4bb"
      },
      "execution_count": null,
      "outputs": [
        {
          "output_type": "execute_result",
          "data": {
            "text/plain": [
              "   0  1  2  3  4  5  6  7  8         9\n",
              "0  x  x  x  x  o  o  x  o  o  positive\n",
              "1  x  x  x  x  o  o  o  x  o  positive\n",
              "2  x  x  x  x  o  o  o  o  x  positive\n",
              "3  x  x  x  x  o  o  o  b  b  positive\n",
              "4  x  x  x  x  o  o  b  o  b  positive"
            ],
            "text/html": [
              "\n",
              "  <div id=\"df-a8ce946f-1fa5-4769-9862-6f3afbb0db42\">\n",
              "    <div class=\"colab-df-container\">\n",
              "      <div>\n",
              "<style scoped>\n",
              "    .dataframe tbody tr th:only-of-type {\n",
              "        vertical-align: middle;\n",
              "    }\n",
              "\n",
              "    .dataframe tbody tr th {\n",
              "        vertical-align: top;\n",
              "    }\n",
              "\n",
              "    .dataframe thead th {\n",
              "        text-align: right;\n",
              "    }\n",
              "</style>\n",
              "<table border=\"1\" class=\"dataframe\">\n",
              "  <thead>\n",
              "    <tr style=\"text-align: right;\">\n",
              "      <th></th>\n",
              "      <th>0</th>\n",
              "      <th>1</th>\n",
              "      <th>2</th>\n",
              "      <th>3</th>\n",
              "      <th>4</th>\n",
              "      <th>5</th>\n",
              "      <th>6</th>\n",
              "      <th>7</th>\n",
              "      <th>8</th>\n",
              "      <th>9</th>\n",
              "    </tr>\n",
              "  </thead>\n",
              "  <tbody>\n",
              "    <tr>\n",
              "      <th>0</th>\n",
              "      <td>x</td>\n",
              "      <td>x</td>\n",
              "      <td>x</td>\n",
              "      <td>x</td>\n",
              "      <td>o</td>\n",
              "      <td>o</td>\n",
              "      <td>x</td>\n",
              "      <td>o</td>\n",
              "      <td>o</td>\n",
              "      <td>positive</td>\n",
              "    </tr>\n",
              "    <tr>\n",
              "      <th>1</th>\n",
              "      <td>x</td>\n",
              "      <td>x</td>\n",
              "      <td>x</td>\n",
              "      <td>x</td>\n",
              "      <td>o</td>\n",
              "      <td>o</td>\n",
              "      <td>o</td>\n",
              "      <td>x</td>\n",
              "      <td>o</td>\n",
              "      <td>positive</td>\n",
              "    </tr>\n",
              "    <tr>\n",
              "      <th>2</th>\n",
              "      <td>x</td>\n",
              "      <td>x</td>\n",
              "      <td>x</td>\n",
              "      <td>x</td>\n",
              "      <td>o</td>\n",
              "      <td>o</td>\n",
              "      <td>o</td>\n",
              "      <td>o</td>\n",
              "      <td>x</td>\n",
              "      <td>positive</td>\n",
              "    </tr>\n",
              "    <tr>\n",
              "      <th>3</th>\n",
              "      <td>x</td>\n",
              "      <td>x</td>\n",
              "      <td>x</td>\n",
              "      <td>x</td>\n",
              "      <td>o</td>\n",
              "      <td>o</td>\n",
              "      <td>o</td>\n",
              "      <td>b</td>\n",
              "      <td>b</td>\n",
              "      <td>positive</td>\n",
              "    </tr>\n",
              "    <tr>\n",
              "      <th>4</th>\n",
              "      <td>x</td>\n",
              "      <td>x</td>\n",
              "      <td>x</td>\n",
              "      <td>x</td>\n",
              "      <td>o</td>\n",
              "      <td>o</td>\n",
              "      <td>b</td>\n",
              "      <td>o</td>\n",
              "      <td>b</td>\n",
              "      <td>positive</td>\n",
              "    </tr>\n",
              "  </tbody>\n",
              "</table>\n",
              "</div>\n",
              "      <button class=\"colab-df-convert\" onclick=\"convertToInteractive('df-a8ce946f-1fa5-4769-9862-6f3afbb0db42')\"\n",
              "              title=\"Convert this dataframe to an interactive table.\"\n",
              "              style=\"display:none;\">\n",
              "        \n",
              "  <svg xmlns=\"http://www.w3.org/2000/svg\" height=\"24px\"viewBox=\"0 0 24 24\"\n",
              "       width=\"24px\">\n",
              "    <path d=\"M0 0h24v24H0V0z\" fill=\"none\"/>\n",
              "    <path d=\"M18.56 5.44l.94 2.06.94-2.06 2.06-.94-2.06-.94-.94-2.06-.94 2.06-2.06.94zm-11 1L8.5 8.5l.94-2.06 2.06-.94-2.06-.94L8.5 2.5l-.94 2.06-2.06.94zm10 10l.94 2.06.94-2.06 2.06-.94-2.06-.94-.94-2.06-.94 2.06-2.06.94z\"/><path d=\"M17.41 7.96l-1.37-1.37c-.4-.4-.92-.59-1.43-.59-.52 0-1.04.2-1.43.59L10.3 9.45l-7.72 7.72c-.78.78-.78 2.05 0 2.83L4 21.41c.39.39.9.59 1.41.59.51 0 1.02-.2 1.41-.59l7.78-7.78 2.81-2.81c.8-.78.8-2.07 0-2.86zM5.41 20L4 18.59l7.72-7.72 1.47 1.35L5.41 20z\"/>\n",
              "  </svg>\n",
              "      </button>\n",
              "      \n",
              "  <style>\n",
              "    .colab-df-container {\n",
              "      display:flex;\n",
              "      flex-wrap:wrap;\n",
              "      gap: 12px;\n",
              "    }\n",
              "\n",
              "    .colab-df-convert {\n",
              "      background-color: #E8F0FE;\n",
              "      border: none;\n",
              "      border-radius: 50%;\n",
              "      cursor: pointer;\n",
              "      display: none;\n",
              "      fill: #1967D2;\n",
              "      height: 32px;\n",
              "      padding: 0 0 0 0;\n",
              "      width: 32px;\n",
              "    }\n",
              "\n",
              "    .colab-df-convert:hover {\n",
              "      background-color: #E2EBFA;\n",
              "      box-shadow: 0px 1px 2px rgba(60, 64, 67, 0.3), 0px 1px 3px 1px rgba(60, 64, 67, 0.15);\n",
              "      fill: #174EA6;\n",
              "    }\n",
              "\n",
              "    [theme=dark] .colab-df-convert {\n",
              "      background-color: #3B4455;\n",
              "      fill: #D2E3FC;\n",
              "    }\n",
              "\n",
              "    [theme=dark] .colab-df-convert:hover {\n",
              "      background-color: #434B5C;\n",
              "      box-shadow: 0px 1px 3px 1px rgba(0, 0, 0, 0.15);\n",
              "      filter: drop-shadow(0px 1px 2px rgba(0, 0, 0, 0.3));\n",
              "      fill: #FFFFFF;\n",
              "    }\n",
              "  </style>\n",
              "\n",
              "      <script>\n",
              "        const buttonEl =\n",
              "          document.querySelector('#df-a8ce946f-1fa5-4769-9862-6f3afbb0db42 button.colab-df-convert');\n",
              "        buttonEl.style.display =\n",
              "          google.colab.kernel.accessAllowed ? 'block' : 'none';\n",
              "\n",
              "        async function convertToInteractive(key) {\n",
              "          const element = document.querySelector('#df-a8ce946f-1fa5-4769-9862-6f3afbb0db42');\n",
              "          const dataTable =\n",
              "            await google.colab.kernel.invokeFunction('convertToInteractive',\n",
              "                                                     [key], {});\n",
              "          if (!dataTable) return;\n",
              "\n",
              "          const docLinkHtml = 'Like what you see? Visit the ' +\n",
              "            '<a target=\"_blank\" href=https://colab.research.google.com/notebooks/data_table.ipynb>data table notebook</a>'\n",
              "            + ' to learn more about interactive tables.';\n",
              "          element.innerHTML = '';\n",
              "          dataTable['output_type'] = 'display_data';\n",
              "          await google.colab.output.renderOutput(dataTable, element);\n",
              "          const docLink = document.createElement('div');\n",
              "          docLink.innerHTML = docLinkHtml;\n",
              "          element.appendChild(docLink);\n",
              "        }\n",
              "      </script>\n",
              "    </div>\n",
              "  </div>\n",
              "  "
            ]
          },
          "metadata": {},
          "execution_count": 39
        }
      ]
    },
    {
      "cell_type": "markdown",
      "source": [
        "A função abaixo serve apenas para exibir alguns resultados obtidos com a variação do número de stumps."
      ],
      "metadata": {
        "id": "B3a7w-vmo5Z3"
      }
    },
    {
      "cell_type": "code",
      "source": [
        "# Função de plot\n",
        "def plot_charts(x_axis, y_axis, x_label, y_label, title, lim_inf, lim_sup, erro = False):\n",
        "    fig, ax = plt.subplots(figsize=(15, 5))\n",
        "    ax.set_title(title)\n",
        "    ax.set_ylim([lim_inf, lim_sup])\n",
        "    ax.set_ylabel(y_label)\n",
        "    ax.set_xlabel(x_label)\n",
        "    if erro:\n",
        "        colors = [\"green\" if y ==  min(y_axis) else \"gray\" for y in y_axis]\n",
        "    else:\n",
        "        colors = [\"green\" if y ==  max(y_axis) else \"gray\" for y in y_axis]\n",
        "    ax.bar(x_axis, y_axis, color=colors)\n",
        "    ax.grid(True, axis='y', color=\"gray\")\n",
        "    plt.plot()"
      ],
      "metadata": {
        "id": "rYCo_y8l0gt8"
      },
      "execution_count": null,
      "outputs": []
    },
    {
      "cell_type": "markdown",
      "source": [
        "## Tratamento dos dados"
      ],
      "metadata": {
        "id": "wzjllQDVBNXk"
      }
    },
    {
      "cell_type": "markdown",
      "source": [
        "Para facilitar o manuseio e as contas envolvidas na classificação, os símbolos alfabéticos foram todos trocados para apenas números. Os símbolos foram trocados da seguinte maneira:<br>\n",
        "- 'o' → 0\n",
        "- 'x' → 1\n",
        "- 'b' → 2\n",
        "- 'positive' → +1\n",
        "- 'negative' → -1<br>\n",
        "\n",
        "Os símbolos 'positive' e 'negative' foram escolhidos de forma que pudéssemos aplicar as operações matemáticas diretamente nos dados, multiplicando o resultado de saída de cada stump, que seria +1 ou -1, diretamente pelo valor associado ao y.\n"
      ],
      "metadata": {
        "id": "Mc9QIYLfqt_D"
      }
    },
    {
      "cell_type": "code",
      "source": [
        "def convert_to_numbers(symbol):\n",
        "    if symbol == 'x' or symbol == 'positive': return 1\n",
        "    elif symbol == 'o': return 0\n",
        "    elif symbol == 'b': return 2\n",
        "    return -1 #negative case\n",
        "\n",
        "data_numbers = data.applymap(lambda x: convert_to_numbers(x))"
      ],
      "metadata": {
        "id": "OQI97lNrquKZ"
      },
      "execution_count": null,
      "outputs": []
    },
    {
      "cell_type": "markdown",
      "source": [
        "Abaixo temos a divisão do conjunto de dados em X e y, tanto para treino quanto para teste, onde o conjunto de dados de treino corresponde a 70% do montante inicial. Os dados foram convertidos para vetores numpy por questões de performance.\n"
      ],
      "metadata": {
        "id": "wq0iU7eJ69N4"
      }
    },
    {
      "cell_type": "code",
      "source": [
        "X = data_numbers.loc[:,:8].to_numpy()\n",
        "y = data_numbers.loc[:,9].to_numpy()\n",
        "\n",
        "X_train, X_test, y_train, y_test = train_test_split(X, y, random_state=1, test_size=0.3)"
      ],
      "metadata": {
        "id": "xiVuqpi2sA0C"
      },
      "execution_count": null,
      "outputs": []
    },
    {
      "cell_type": "markdown",
      "source": [
        "## Classificador\n",
        "\n",
        "Para que pudéssemos utilizar o método GridSearchCV para realizar as mudanças de parâmetros e a validação cruzada com 5 partições, foi necessário criar uma classe que contém algumas funções específicas. Inicialmente é necessário fazer com que nossa classe herde a classe BaseEstimator, do SciKit, os métodos de treinamento e teste devem chamar fit e predict, respectivamente, para que possam ser utilizados junto ao GridSearchCV. Outro ponto importante é a criação do método \"get_params\", que apenas retorna os parâmetros do classificador criado.\n",
        "\n",
        "A classe criada deve receber como parâmetro apenas o número de stumps que serão utilizados, que é o mesmo número de iterações que serão feitas no conjunto de treino. Ao ser instanciada, é chamado o método \"create_stumps\", que cria 56 stumps, que possuem a seguinte forma [_, _, _] onde:\n",
        "- A primeira posição é um inteiro entre 0 e 8, sendo a posição da janela do #. \n",
        "-A segunda posição pode conter os números 0, 1 ou 2, correspondentes a 'o', 'x' e 'b'. \n",
        "-E a terceira posição contém +1 ou -1, 'positive' e 'negative', respectivamente.<br>\n",
        "\n",
        "Ao todo são, portanto, 9x3x2 stumps, que foram feitos dessa maneira para facilitar a checagem das posições, símbolos e resultados. Há, também, dois stumps adicionais, que possuem o primeiro valor igual a -1, onde retornam +1 ou -1 para todos os casos.\n",
        "\n",
        "O método principal de toda a classe é o método \"fit\", que recebe o X e o y de treino. Ao ser chamada, essa função inicializa os pesos iniciais, todos sendo 1/(tamanho do conjunto X), assim como na teoria. Então, para cada stump, é avaliado seu erro utilizando todo o conjunto de dados, que é calculado de forma empírica. Para cada partida do conjunto de teste, é verificado se o símbolo do stump na posição especificada é o mesmo do jogo, caso o seja é então retornado o terceiro campo do stump, caso não seja é retornado o terceiro campo multiplicado por -1. O cálculo do erro é bem simples, caso uma partida seja classificada erroneamente , o seu peso associado é adicionado a uma variável que acumula os erros. \n",
        "\n",
        "Cada stump terá seu próprio erro, e a que obtiver o menor erro será escolhida e o alpha será computado. Tendo o alpha e o stump, podemos então atualizar os pesos. Para isso, cada partida é classificada pelo stump em questão e é realizada a operação de atualização. Para o normalizador Z, foi escolhida simplesmente a soma do novo conjunto de pesos, onde cada peso do vetor é dividido pela soma dos pesos anteriormente atualizados."
      ],
      "metadata": {
        "id": "uf9NBog9BsBy"
      }
    },
    {
      "cell_type": "code",
      "source": [
        "class Boost(BaseEstimator):\n",
        "    def __init__(self, num_estimators = 100):\n",
        "        self.num_estimators = num_estimators\n",
        "        self.create_stumps()\n",
        "\n",
        "    def get_params(self, deep=True):\n",
        "        return {'num_estimators': self.num_estimators}\n",
        "\n",
        "    def init_weights(self, num_weights):\n",
        "        weights = []\n",
        "        for i in range(num_weights):\n",
        "            weights.append(1/num_weights)\n",
        "        return weights\n",
        "\n",
        "    def create_stumps(self):\n",
        "        self.stumps = []\n",
        "        for i in range(9): # number of positions\n",
        "            for j in (0, 1, 2): # o, x or b\n",
        "                for k in (1, -1): # positive or negative\n",
        "                    self.stumps.append([i, j, k])\n",
        "        self.stumps.append([-1, '-', 1]) # all positive\n",
        "        self.stumps.append([-1, '-', -1]) # all negative\n",
        "\n",
        "    def classify_game(self, stump, game):\n",
        "        if(stump[0] == -1): \n",
        "            return stump[2]\n",
        "        elif(game[stump[0]] == stump[1]): \n",
        "            return stump[2]\n",
        "        return -stump[2]\n",
        "\n",
        "    def calcula_erro(self, stump, X_train, y_train):\n",
        "        erro = 0\n",
        "        for i in range(len(X_train)):\n",
        "            ht = self.classify_game(stump, X_train[i])\n",
        "            if y_train[i] != ht: \n",
        "                erro += self.weights[i]\n",
        "        return erro\n",
        "\n",
        "    def atualiza_pesos(self, alpha, stump, X_train, y_train):\n",
        "        for i in range(len(X_train)):\n",
        "            ht = self.classify_game(stump, X_train[i])\n",
        "            self.weights[i] = self.weights[i] * np.exp(-alpha * ht * y_train[i])\n",
        "    \n",
        "        z = np.sum(self.weights)\n",
        "        for i in range(len(self.weights)):\n",
        "            self.weights[i] = self.weights[i] / z\n",
        "\n",
        "    def predict(self, X_test):\n",
        "        results = []\n",
        "        for i in range(len(X_test)):\n",
        "            classificacao = 0\n",
        "            for j in range(len(self.chosen_stumps)):\n",
        "                classificacao += self.alphas[j] * self.classify_game(self.chosen_stumps[j], X_test[i])\n",
        "            if classificacao > 0: results.append(1)\n",
        "            else: results.append(-1)\n",
        "        return results\n",
        "\n",
        "    def fit(self, X_train, y_train):\n",
        "        self.weights = self.init_weights(len(X_train))\n",
        "        self.chosen_stumps = []\n",
        "        self.alphas = []\n",
        "\n",
        "        while(self.num_estimators > 0):\n",
        "            melhor_erro = np.inf\n",
        "            melhor_stump = []\n",
        "            for i in range(len(self.stumps)):\n",
        "                erro = self.calcula_erro(self.stumps[i], X_train, y_train)\n",
        "                if(erro < melhor_erro):\n",
        "                    melhor_erro = erro\n",
        "                    melhor_stump = self.stumps[i]\n",
        "\n",
        "            alpha = 1/2 * np.log2((1.0-melhor_erro)/melhor_erro)\n",
        "            self.alphas.append(alpha)\n",
        "            self.chosen_stumps.append(melhor_stump)\n",
        "            self.atualiza_pesos(alpha, melhor_stump, X_train, y_train)\n",
        "            self.num_estimators -= 1"
      ],
      "metadata": {
        "id": "TWReHk9-LjNp"
      },
      "execution_count": null,
      "outputs": []
    },
    {
      "cell_type": "markdown",
      "source": [
        "Com todos os preparos concluídos para poder utilizar o método GridSearchCV, o utilizamos passando o único hiperparâmetro criado, o número de estimadores (stumps), a função 'scoring' como a acurácia e o resto padrão, sendo um deles a validação cruzada com 5 folders. Agora temos acesso a algumas facilidades do GridSearchCV, que serão utilizadas para avaliar o modelo e exibir alguns detalhes."
      ],
      "metadata": {
        "id": "VNXsjUt8QWdr"
      }
    },
    {
      "cell_type": "code",
      "source": [
        "estimators = np.arange(start=0, stop=151, step=5)\n",
        "estimators[0] = 1\n",
        "params = {'num_estimators': estimators}\n",
        "\n",
        "boost_searcher = GridSearchCV(Boost(), param_grid=params, scoring='accuracy', verbose=1)\n",
        "boost_searcher.fit(X_train, y_train)"
      ],
      "metadata": {
        "colab": {
          "base_uri": "https://localhost:8080/"
        },
        "id": "8uP03a3i3Rcf",
        "outputId": "f626deb5-e47c-4777-f1b5-0730cef3c735"
      },
      "execution_count": null,
      "outputs": [
        {
          "output_type": "stream",
          "name": "stdout",
          "text": [
            "Fitting 5 folds for each of 31 candidates, totalling 155 fits\n"
          ]
        },
        {
          "output_type": "execute_result",
          "data": {
            "text/plain": [
              "GridSearchCV(estimator=Boost(),\n",
              "             param_grid={'num_estimators': array([  1,   5,  10,  15,  20,  25,  30,  35,  40,  45,  50,  55,  60,\n",
              "        65,  70,  75,  80,  85,  90,  95, 100, 105, 110, 115, 120, 125,\n",
              "       130, 135, 140, 145, 150])},\n",
              "             scoring='accuracy', verbose=1)"
            ]
          },
          "metadata": {},
          "execution_count": 80
        }
      ]
    },
    {
      "cell_type": "code",
      "source": [
        "import matplotlib.pyplot as plt\n",
        "fig, (ax1, ax2) = plt.subplots(1,2, figsize=(12,5))\n",
        "\n",
        "ax1.plot(estimators, 1 - boost_searcher.cv_results_[\"mean_test_score\"])\n",
        "ax1.set_xlabel('Número de stumps')\n",
        "ax1.set_ylabel('Erro')\n",
        "ax1.set_ylim(0, 1)\n",
        "\n",
        "ax2.plot(estimators, boost_searcher.cv_results_[\"mean_test_score\"])\n",
        "ax2.set_xlabel('Número de stumps')\n",
        "ax2.set_ylabel('Acurácia')\n",
        "ax2.set_ylim(0, 1)\n",
        "plt.show()"
      ],
      "metadata": {
        "colab": {
          "base_uri": "https://localhost:8080/",
          "height": 338
        },
        "id": "qKGaOAN_yI1u",
        "outputId": "8fb795b6-3221-4346-a8b2-cdbbcc4df341"
      },
      "execution_count": null,
      "outputs": [
        {
          "output_type": "display_data",
          "data": {
            "text/plain": [
              "<Figure size 864x360 with 2 Axes>"
            ],
            "image/png": "[encoded data removed]"
          },
          "metadata": {
            "needs_background": "light"
          }
        }
      ]
    },
    {
      "cell_type": "code",
      "source": [
        "print(f\"Resultados:\")\n",
        "print(f\"Menor erro = {1-boost_searcher.best_score_}\")\n",
        "print(f\"Melhor parâmetro = {', '.join('{}: {}'.format(k, v) for k, v in boost_searcher.best_params_.items())}\\n\")\n",
        "plot_charts([str(x) for x in estimators], 1-boost_searcher.cv_results_[\"mean_test_score\"], 'Número de stumps', 'Erro simples', 'Boost', 0, 0.5, True)"
      ],
      "metadata": {
        "colab": {
          "base_uri": "https://localhost:8080/",
          "height": 419
        },
        "id": "bOnIzPqaCjtn",
        "outputId": "4d823f2d-652b-4996-b9ab-e11414b0cdaf"
      },
      "execution_count": null,
      "outputs": [
        {
          "output_type": "stream",
          "name": "stdout",
          "text": [
            "Resultados:\n",
            "Menor erro = 0.010447761194029903\n",
            "Melhor parâmetro = num_estimators: 150\n",
            "\n"
          ]
        },
        {
          "output_type": "display_data",
          "data": {
            "text/plain": [
              "<Figure size 1080x360 with 1 Axes>"
            ],
            "image/png": "[encoded data removed]"
          },
          "metadata": {
            "needs_background": "light"
          }
        }
      ]
    },
    {
      "cell_type": "code",
      "source": [
        "plot_charts([str(x) for x in estimators], boost_searcher.cv_results_[\"mean_test_score\"], 'Número de stumps', 'Acurácia', 'Boost', 0.6, 1)"
      ],
      "metadata": {
        "colab": {
          "base_uri": "https://localhost:8080/",
          "height": 350
        },
        "id": "WcT5z5Zwn5pJ",
        "outputId": "ba1c40c7-1e72-4ecc-f2dd-de78d194e503"
      },
      "execution_count": null,
      "outputs": [
        {
          "output_type": "display_data",
          "data": {
            "text/plain": [
              "<Figure size 1080x360 with 1 Axes>"
            ],
            "image/png": "[encoded data removed]"
          },
          "metadata": {
            "needs_background": "light"
          }
        }
      ]
    },
    {
      "cell_type": "markdown",
      "source": [
        "Como podemos ver nos gráficos acima, o erro simples, mesmo que dando alguma variada localmente, tende a diminuir conforme aumentamos o número de stumps utilizados, chegando no menor valor com 150 stumps."
      ],
      "metadata": {
        "id": "pDhp3YPHlvUp"
      }
    },
    {
      "cell_type": "code",
      "source": [
        "print(f\"Erro no conjunto de testes: {1-boost_searcher.score(X_test, y_test)}.\")"
      ],
      "metadata": {
        "colab": {
          "base_uri": "https://localhost:8080/"
        },
        "id": "XsDWOaqtzG4l",
        "outputId": "ed22c5f0-cc24-48a1-f393-a4142d5375f9"
      },
      "execution_count": null,
      "outputs": [
        {
          "output_type": "stream",
          "name": "stdout",
          "text": [
            "Erro no conjunto de testes: 0.02777777777777779.\n"
          ]
        }
      ]
    },
    {
      "cell_type": "markdown",
      "source": [
        "## Conclusão\n",
        "\n",
        "Foi implementado um algoritmo de Boosting seguindo os conceitos ensinados nas aulas. O problema abordado consiste em classificar corretamente os resultados de partidas do \"jogo da velha\" e, para isso, foi desenvolvido um classificador baseado em Boosting com seus próprios stumps. Podemos observar pelos gráficos e pelo erro do teste que a implementação foi um sucesso, chegando a valores satisfatórios de erro com o aumento do número de stumps, conforme se espera do algoritmo."
      ],
      "metadata": {
        "id": "ogixdBdTpHpQ"
      }
    }
  ]
}